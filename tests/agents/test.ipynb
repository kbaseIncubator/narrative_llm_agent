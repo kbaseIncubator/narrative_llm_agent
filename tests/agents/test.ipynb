{
 "cells": [
  {
   "cell_type": "code",
   "execution_count": 1,
   "id": "498c71cc-e447-4cb4-9795-1eef4936aef1",
   "metadata": {},
   "outputs": [],
   "source": [
    "import config\n",
    "import os"
   ]
  },
  {
   "cell_type": "code",
   "execution_count": 2,
   "id": "e5e9c114-13be-464f-9e43-54b999c3daef",
   "metadata": {},
   "outputs": [],
   "source": [
    "from narrative_llm_agent.agents.kbase_agent import KBaseAgent\n",
    "from narrative_llm_agent.agents.analyst import AnalystAgent\n",
    "from narrative_llm_agent.agents.KnowledgeGraph import KGAgent\n",
    "from langchain_openai import ChatOpenAI\n",
    "from crewai import Agent, Task, Crew, Process\n"
   ]
  },
  {
   "cell_type": "code",
   "execution_count": 3,
   "id": "608d3720-1857-48fe-95ce-e6664c0f2b34",
   "metadata": {},
   "outputs": [],
   "source": [
    "api_key = os.environ[\"OPENAI_API_KEY\"]\n",
    "neo4j_uri = os.environ[\"NEO4J_URI\"] \n",
    "neo4j_username  = os.environ[\"NEO4J_USERNAME\"]\n",
    "neo4j_password = os.environ[\"NEO4J_PASSWORD\"]"
   ]
  },
  {
   "cell_type": "code",
   "execution_count": 4,
   "id": "fe997887-977d-4ade-bc7d-f421f2c402bf",
   "metadata": {},
   "outputs": [],
   "source": [
    "token = 'dumy_token'"
   ]
  },
  {
   "cell_type": "code",
   "execution_count": 5,
   "id": "6a94b4c8-3a65-43d6-ba9a-b8bdd8ef1547",
   "metadata": {},
   "outputs": [],
   "source": [
    "def test_kbase_agent():\n",
    "    agent = KBaseAgent(\"foo\", None)\n",
    "    assert agent._token == \"foo\"\n",
    "    print(\"like totally passed.\")"
   ]
  },
  {
   "cell_type": "code",
   "execution_count": 6,
   "id": "de0d8fe0-bdc6-403d-9fd4-2f095e7131a7",
   "metadata": {},
   "outputs": [],
   "source": [
    "llm = ChatOpenAI(temperature=0, model=\"gpt-4\",streaming=True)"
   ]
  },
  {
   "cell_type": "code",
   "execution_count": 7,
   "id": "3408352d-7c3e-4151-815d-138b504cbd3c",
   "metadata": {},
   "outputs": [],
   "source": [
    "researcher = AnalystAgent(token=token, llm=llm)\n",
    "KGer = KGAgent(token=token, llm=llm)"
   ]
  },
  {
   "cell_type": "code",
   "execution_count": 8,
   "id": "9d222c39-537c-47de-984c-e2fa1d571608",
   "metadata": {},
   "outputs": [],
   "source": [
    "# # Create tasks for your agents\n",
    "# task1 = Task(\n",
    "#   description=\"\"\"I have sequenced a new microbe. I have a fastq file of reads from paired end illumina sequencing.  \n",
    "#   Using KBase apps, I would like to understand if my newly sequenced microbe is a cysteine auxotroph. Which KBase apps should I use and how do I use them? \n",
    "#   Use the Kbase App catalog and documentation to come up with a list of apps to use for each step.\n",
    "#   Use the knowledge graph to make sure that the apps that you suggest exist\n",
    "#   Get the approval of a human.\n",
    "# \"\"\",\n",
    "#   agent=researcher.agent\n",
    "# )\n",
    "# task2 = Task(\n",
    "#   description=\"\"\"I am trying to use the trimmomatic and gtdb apps, are there any common data objects between the apps?\n",
    "# \"\"\",\n",
    "#   agent=researcher.agent\n",
    "# )"
   ]
  },
  {
   "cell_type": "code",
   "execution_count": 12,
   "id": "309ca140-1f71-44e3-a6a0-d54f26b19118",
   "metadata": {},
   "outputs": [],
   "source": [
    "# task1 = Task(\n",
    "#   description=\"\"\"I have sequenced a new microbe. I have a fastq file of reads from paired end illumina sequencing.  \n",
    "#   Using KBase apps, I would like to understand if my newly sequenced microbe is a cysteine auxotroph. Which KBase apps should I use and how do I use them? \n",
    "#   \"\"\",\n",
    "#   agent=researcher.agent\n",
    "# )\n",
    "task1 = Task (description=\"\"\"I have sequenced a new microbe. I have a fastq file of reads from paired end illumina sequencing tand would like to check its quality.\n",
    "    What app should I use. Please suggest only one app at a time for a particular step. If you must suggest alternative apps please limit to only one.?\"\"\", agent=researcher.agent)\n",
    "task2 = Task(\n",
    "  description=\"\"\"\n",
    "  Use the knowledge graph to make sure that the apps that you suggest exist\n",
    "  After you check its availability in the Knowledge Graph, ask a human if they approve of the suggested app. If not check for the additional recommended app in the Knowledge Graph.\"\"\",\n",
    "  agent=KGer.agent\n",
    ")"
   ]
  },
  {
   "cell_type": "code",
   "execution_count": 13,
   "id": "baf4543f-1e61-42f2-996d-ed97c4a88e82",
   "metadata": {},
   "outputs": [
    {
     "name": "stderr",
     "output_type": "stream",
     "text": [
      "Overriding of current TracerProvider is not allowed\n"
     ]
    }
   ],
   "source": [
    "# Instantiate your crew with a sequential process\n",
    "crew = Crew(\n",
    "  agents=[researcher.agent,KGer.agent],\n",
    "  tasks=[task1,task2],\n",
    "  verbose=2, # You can set it to 1 or 2 to different logging levels\n",
    ")"
   ]
  },
  {
   "cell_type": "code",
   "execution_count": 14,
   "id": "a8923365-835c-497a-9eaf-00c482a0cfd3",
   "metadata": {},
   "outputs": [
    {
     "name": "stdout",
     "output_type": "stream",
     "text": [
      "[DEBUG]: Working Agent: Computational Biologist and Geneticist\n",
      "[INFO]: Starting Task: I have sequenced a new microbe. I have a fastq file of reads from paired end illumina sequencing tand would like to check its quality.\n",
      "    What app should I use. Please suggest only one app at a time for a particular step. If you must suggest alternative apps please limit to only one.?\n",
      "\n",
      "\n",
      "\u001b[1m> Entering new CrewAgentExecutor chain...\u001b[0m\n",
      "\u001b[32;1m\u001b[1;3mUse Tool: KBase app catalog retrieval tool\n",
      "Input: What is the best app in KBase for checking the quality of a fastq file from paired end illumina sequencing?\u001b[0m\u001b[93m \n",
      "\n",
      "{'query': 'What is the best app in KBase for checking the quality of a fastq file from paired end illumina sequencing?', 'chat_history': '', 'result': 'The \"Reads Utils - v1.0.2\" app in KBase could be used to check the quality of a fastq file from paired end Illumina sequencing. This app can convert libraries\\' quality scores from phred64 to phred33, which can be useful for quality checking. However, for a more comprehensive quality assessment, you might need to use an external tool like FastQC, as it\\'s not clear if such an app is available in KBase.'}\n",
      "\u001b[00m\n",
      "\u001b[32;1m\u001b[1;3mFinal Answer: The \"Reads Utils - v1.0.2\" app in KBase could be used to check the quality of a fastq file from paired end Illumina sequencing. This app can convert libraries' quality scores from phred64 to phred33, which can be useful for quality checking. However, for a more comprehensive quality assessment, you might need to use an external tool like FastQC, as it's not clear if such an app is available in KBase.\u001b[0m\n",
      "\n",
      "\u001b[1m> Finished chain.\u001b[0m\n",
      "[DEBUG]: [Computational Biologist and Geneticist] Task output: The \"Reads Utils - v1.0.2\" app in KBase could be used to check the quality of a fastq file from paired end Illumina sequencing. This app can convert libraries' quality scores from phred64 to phred33, which can be useful for quality checking. However, for a more comprehensive quality assessment, you might need to use an external tool like FastQC, as it's not clear if such an app is available in KBase.\n",
      "\n",
      "\n",
      "[DEBUG]: Working Agent: Knowledge Graph retrieval\n",
      "[INFO]: Starting Task: \n",
      "  Use the knowledge graph to make sure that the apps that you suggest exist\n",
      "  After you check its availability in the Knowledge Graph, ask a human if they approve of the suggested app. If not check for the additional recommended app in the Knowledge Graph.\n",
      "\n",
      "\n",
      "\u001b[1m> Entering new CrewAgentExecutor chain...\u001b[0m\n",
      "\u001b[32;1m\u001b[1;3mUse Tool: KG retrieval tool\n",
      "Input: \"Reads Utils\"\u001b[0m\n",
      "\n",
      "\u001b[1m> Entering new AgentExecutor chain...\u001b[0m\n",
      "\u001b[32;1m\u001b[1;3m\n",
      "Invoking: `Information` with `{'entity': 'Reads Utils', 'entity_type': 'AppCatalog'}`\n",
      "\n",
      "\n",
      "\u001b[0m\u001b[36;1m\u001b[1;3mNeed additional information, which of these did you mean: \n",
      "{'candidate': 'Join Overlapping Mate Pairs with ea-utils FASTQ-JOIN'}\n",
      "{'candidate': 'Compute Simple Read Library Stats'}\u001b[0m\u001b[32;1m\u001b[1;3mI found two KBase apps related to \"Reads Utils\". Could you please specify which one you are interested in? \n",
      "\n",
      "1. Join Overlapping Mate Pairs with ea-utils FASTQ-JOIN\n",
      "2. Compute Simple Read Library Stats\u001b[0m\n",
      "\n",
      "\u001b[1m> Finished chain.\u001b[0m\n",
      "\u001b[93m \n",
      "\n",
      "I found two KBase apps related to \"Reads Utils\". Could you please specify which one you are interested in? \n",
      "\n",
      "1. Join Overlapping Mate Pairs with ea-utils FASTQ-JOIN\n",
      "2. Compute Simple Read Library Stats\n",
      "\u001b[00m\n",
      "\u001b[32;1m\u001b[1;3mUse Tool: human\n",
      "Input: I found two KBase apps related to \"Reads Utils\": \"Join Overlapping Mate Pairs with ea-utils FASTQ-JOIN\" and \"Compute Simple Read Library Stats\". Are you interested in either of these, or should I look for another app?\u001b[0m\n",
      "\n",
      "I found two KBase apps related to \"Reads Utils\": \"Join Overlapping Mate Pairs with ea-utils FASTQ-JOIN\" and \"Compute Simple Read Library Stats\". Are you interested in either of these, or should I look for another app?\n"
     ]
    },
    {
     "name": "stdin",
     "output_type": "stream",
     "text": [
      " None. Look for quality control apps like fast qc\n"
     ]
    },
    {
     "name": "stdout",
     "output_type": "stream",
     "text": [
      "\u001b[93m \n",
      "\n",
      "None. Look for quality control apps like fast qc\n",
      "\u001b[00m\n",
      "\u001b[32;1m\u001b[1;3mUse Tool: KG retrieval tool\n",
      "Input: \"FastQC\"\u001b[0m\n",
      "\n",
      "\u001b[1m> Entering new AgentExecutor chain...\u001b[0m\n",
      "\u001b[32;1m\u001b[1;3m\n",
      "Invoking: `Information` with `{'entity': 'FastQC', 'entity_type': 'AppCatalog'}`\n",
      "\n",
      "\n",
      "\u001b[0m\u001b[36;1m\u001b[1;3mNeed additional information, which of these did you mean: \n",
      "{'candidate': 'Join Overlapping Mate Pairs with ea-utils FASTQ-JOIN'}\n",
      "{'candidate': 'Assess Read Quality with FastQC - v0.12.1'}\n",
      "{'candidate': 'SINGLE END READS'}\u001b[0m\u001b[32;1m\u001b[1;3mI found multiple KBase apps related to FastQC. Could you please specify which one you are interested in? Here are the options:\n",
      "\n",
      "1. Join Overlapping Mate Pairs with ea-utils FASTQ-JOIN\n",
      "2. Assess Read Quality with FastQC - v0.12.1\n",
      "3. SINGLE END READS\u001b[0m\n",
      "\n",
      "\u001b[1m> Finished chain.\u001b[0m\n",
      "\u001b[93m \n",
      "\n",
      "I found multiple KBase apps related to FastQC. Could you please specify which one you are interested in? Here are the options:\n",
      "\n",
      "1. Join Overlapping Mate Pairs with ea-utils FASTQ-JOIN\n",
      "2. Assess Read Quality with FastQC - v0.12.1\n",
      "3. SINGLE END READS\n",
      "\u001b[00m\n",
      "\u001b[32;1m\u001b[1;3mUse Tool: human\n",
      "Input: I found multiple KBase apps related to FastQC: \"Join Overlapping Mate Pairs with ea-utils FASTQ-JOIN\", \"Assess Read Quality with FastQC - v0.12.1\", and \"SINGLE END READS\". Are you interested in any of these, or should I look for another app?\u001b[0m\n",
      "\n",
      "I found multiple KBase apps related to FastQC: \"Join Overlapping Mate Pairs with ea-utils FASTQ-JOIN\", \"Assess Read Quality with FastQC - v0.12.1\", and \"SINGLE END READS\". Are you interested in any of these, or should I look for another app?\n"
     ]
    },
    {
     "name": "stdin",
     "output_type": "stream",
     "text": [
      " 2\n"
     ]
    },
    {
     "name": "stdout",
     "output_type": "stream",
     "text": [
      "\u001b[93m \n",
      "\n",
      "2\n",
      "\u001b[00m\n",
      "\u001b[32;1m\u001b[1;3mFinal Answer: The \"Assess Read Quality with FastQC - v0.12.1\" app is available in KBase and has been approved for use.\u001b[0m\n",
      "\n",
      "\u001b[1m> Finished chain.\u001b[0m\n",
      "[DEBUG]: [Knowledge Graph retrieval] Task output: The \"Assess Read Quality with FastQC - v0.12.1\" app is available in KBase and has been approved for use.\n",
      "\n",
      "\n",
      "######################\n",
      "The \"Assess Read Quality with FastQC - v0.12.1\" app is available in KBase and has been approved for use.\n"
     ]
    }
   ],
   "source": [
    "# Get your crew to work!\n",
    "result = crew.kickoff()\n",
    "\n",
    "print(\"######################\")\n",
    "print(result)"
   ]
  },
  {
   "cell_type": "code",
   "execution_count": null,
   "id": "bd4d4c48-c90f-4b31-a781-a817034e5624",
   "metadata": {},
   "outputs": [],
   "source": []
  }
 ],
 "metadata": {
  "kernelspec": {
   "display_name": "Python 3 (ipykernel)",
   "language": "python",
   "name": "python3"
  },
  "language_info": {
   "codemirror_mode": {
    "name": "ipython",
    "version": 3
   },
   "file_extension": ".py",
   "mimetype": "text/x-python",
   "name": "python",
   "nbconvert_exporter": "python",
   "pygments_lexer": "ipython3",
   "version": "3.11.8"
  }
 },
 "nbformat": 4,
 "nbformat_minor": 5
}
