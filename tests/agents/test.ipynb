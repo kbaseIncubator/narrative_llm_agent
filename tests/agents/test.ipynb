{
 "cells": [
  {
   "cell_type": "code",
   "execution_count": 1,
   "id": "e5e9c114-13be-464f-9e43-54b999c3daef",
   "metadata": {},
   "outputs": [],
   "source": [
    "from narrative_llm_agent.agents.kbase_agent import KBaseAgent\n",
    "from narrative_llm_agent.agents.analyst import AnalystAgent\n",
    "from langchain_openai import ChatOpenAI\n",
    "from crewai import Agent, Task, Crew, Process\n",
    "import config"
   ]
  },
  {
   "cell_type": "code",
   "execution_count": 2,
   "id": "6a94b4c8-3a65-43d6-ba9a-b8bdd8ef1547",
   "metadata": {},
   "outputs": [],
   "source": [
    "def test_kbase_agent():\n",
    "    agent = KBaseAgent(\"foo\", None)\n",
    "    assert agent._token == \"foo\"\n",
    "    print(\"like totally passed.\")"
   ]
  },
  {
   "cell_type": "code",
   "execution_count": 3,
   "id": "de0d8fe0-bdc6-403d-9fd4-2f095e7131a7",
   "metadata": {},
   "outputs": [],
   "source": [
    "llm = ChatOpenAI(temperature=0, model=\"gpt-4\",streaming=True,openai_api_key=config.api_key)"
   ]
  },
  {
   "cell_type": "code",
   "execution_count": 4,
   "id": "3408352d-7c3e-4151-815d-138b504cbd3c",
   "metadata": {},
   "outputs": [],
   "source": [
    "researcher = AnalystAgent(token=config.api_key, llm=llm)"
   ]
  },
  {
   "cell_type": "code",
   "execution_count": 5,
   "id": "9d222c39-537c-47de-984c-e2fa1d571608",
   "metadata": {},
   "outputs": [],
   "source": [
    "# Create tasks for your agents\n",
    "task1 = Task(\n",
    "  description=\"\"\"I have sequenced a new microbe. I have a fastq file of reads from paired end illumina sequencing.  \n",
    "  Using KBase apps, I would like to understand if my newly sequenced microbe is a cysteine auxotroph. Which KBase apps should I use and how do I use them?\n",
    "\"\"\",\n",
    "  agent=researcher.agent\n",
    ")\n",
    "task2 = Task(\n",
    "  description=\"\"\"I have sequenced a new microbe. I have a fastq file of reads from paired end illumina sequencing.  \n",
    "  I want to perform trimming and quality control, which KBase apps should I use?\n",
    "\"\"\",\n",
    "  agent=researcher.agent\n",
    ")"
   ]
  },
  {
   "cell_type": "code",
   "execution_count": 6,
   "id": "baf4543f-1e61-42f2-996d-ed97c4a88e82",
   "metadata": {},
   "outputs": [],
   "source": [
    "# Instantiate your crew with a sequential process\n",
    "crew = Crew(\n",
    "  agents=[researcher.agent],\n",
    "  tasks=[task1],\n",
    "  verbose=2, # You can set it to 1 or 2 to different logging levels\n",
    ")"
   ]
  },
  {
   "cell_type": "code",
   "execution_count": 7,
   "id": "a8923365-835c-497a-9eaf-00c482a0cfd3",
   "metadata": {},
   "outputs": [
    {
     "name": "stdout",
     "output_type": "stream",
     "text": [
      "[DEBUG]: Working Agent: Computational Biologist and Geneticist\n",
      "[INFO]: Starting Task: I have sequenced a new microbe. I have a fastq file of reads from paired end illumina sequencing.  \n",
      "  Using KBase apps, I would like to understand if my newly sequenced microbe is a cysteine auxotroph. Which KBase apps should I use and how do I use them?\n",
      "\n",
      "\n",
      "\n",
      "\u001b[1m> Entering new CrewAgentExecutor chain...\u001b[0m\n",
      "\u001b[32;1m\u001b[1;3mUse Tool: Kbase app catalog retrieval tool, \"Which KBase apps can help me analyze a fastq file from paired end illumina sequencing to determine if my newly sequenced microbe is a cysteine auxotroph?\" \u001b[0m\u001b[93m \n",
      "\n",
      "{'query': 'Which KBase apps can help me analyze a fastq file from paired end illumina sequencing to determine if my newly sequenced microbe is a cysteine auxotroph?', 'chat_history': '', 'result': \"Based on the additional context, the following KBase apps could be useful in analyzing a fastq file from paired-end Illumina sequencing to determine if your newly sequenced microbe is a cysteine auxotroph:\\n\\n1. 'Trim Reads with Trimmomatic - v0.36' (kb_trimmomatic/run_trimmomatic): This app can be used to trim your Illumina reads before assembly.\\n\\n2. 'Assemble Reads with Unicycler - v0.4.8' (kb_unicycler/run_unicycler): This app can help you assemble the trimmed reads from your sequencing.\\n\\n3. 'Align Reads using TopHat2 - v1.0.1' (kb_tophat2/align_reads_using_tophat2): This app can be used to align sequencing reads to a reference genome to identify exon-exon splice junctions.\\n\\n4. 'HMMER Custom Search & Functional Profile - v3.3.2' (kb_hmmer/HMMER_Local_MSA_Group_Search): This app can be used to search for matches to all MSAs that are within workspace using Hidden Markov Model (HMMER) Search.\\n\\n5. 'HMMER Search from MSA (prot-prot) - v3.3.2' (kb_hmmer/HMMER_MSA_Search): This app can be used to search for matches to a Multiple Sequence Alignment (MSA) using HMMER.\\n\\n6. 'Assess Genome Quality with CheckM - v1.0.18' (kb_Msuite/run_checkM_lineage_wf): Once you have assembled your reads, this app can help you assess the quality of your genome assembly.\\n\\n7. 'Annotate Microbial Assembly' (RASTtk/annotate_microbial_genome): After assembling your genome, you can use this app to annotate the genome, which will identify the genes and their functions.\\n\\n8. 'Build Metabolic Model' (kb_model_seed/build_metabolic_model): This app can help you build a metabolic model from your annotated genome. This model can be used to predict the metabolic capabilities of your microbe, including whether it is a cysteine auxotroph.\\n\\n9. 'Gapfill Metabolic Model' (kb_model_seed/gapfill_metabolic_model): If your metabolic model predicts that your microbe is a cysteine auxotroph, you can use this app to identify potential reactions that could be added to the model to enable cysteine biosynthesis.\\n\\n10. 'Batch Import Assembly from Staging Area' (kb_uploadmethods/batch_import_assembly_from_staging): This app can be used to import FASTA files from your staging area into your workspace.\\n\\nRemember that these are just tools to help you analyze your data. The final determination of whether your microbe is a cysteine auxotroph will require careful interpretation of the results.\"}\n",
      "\u001b[00m\n",
      "\u001b[32;1m\u001b[1;3mFinal Answer: Based on the KBase app catalog, the following steps and corresponding apps should be used to analyze your fastq file from paired end illumina sequencing to determine if your newly sequenced microbe is a cysteine auxotroph:\n",
      "\n",
      "1. Trim your Illumina reads before assembly using 'Trim Reads with Trimmomatic - v0.36' (kb_trimmomatic/run_trimmomatic).\n",
      "\n",
      "2. Assemble the trimmed reads from your sequencing using 'Assemble Reads with Unicycler - v0.4.8' (kb_unicycler/run_unicycler).\n",
      "\n",
      "3. Align sequencing reads to a reference genome to identify exon-exon splice junctions using 'Align Reads using TopHat2 - v1.0.1' (kb_tophat2/align_reads_using_tophat2).\n",
      "\n",
      "4. Search for matches to all MSAs that are within workspace using Hidden Markov Model (HMMER) Search with 'HMMER Custom Search & Functional Profile - v3.3.2' (kb_hmmer/HMMER_Local_MSA_Group_Search).\n",
      "\n",
      "5. Search for matches to a Multiple Sequence Alignment (MSA) using HMMER with 'HMMER Search from MSA (prot-prot) - v3.3.2' (kb_hmmer/HMMER_MSA_Search).\n",
      "\n",
      "6. Assess the quality of your genome assembly using 'Assess Genome Quality with CheckM - v1.0.18' (kb_Msuite/run_checkM_lineage_wf).\n",
      "\n",
      "7. Annotate the genome, which will identify the genes and their functions, using 'Annotate Microbial Assembly' (RASTtk/annotate_microbial_genome).\n",
      "\n",
      "8. Build a metabolic model from your annotated genome using 'Build Metabolic Model' (kb_model_seed/build_metabolic_model). This model can be used to predict the metabolic capabilities of your microbe, including whether it is a cysteine auxotroph.\n",
      "\n",
      "9. If your metabolic model predicts that your microbe is a cysteine auxotroph, identify potential reactions that could be added to the model to enable cysteine biosynthesis using 'Gapfill Metabolic Model' (kb_model_seed/gapfill_metabolic_model).\n",
      "\n",
      "10. Import FASTA files from your staging area into your workspace using 'Batch Import Assembly from Staging Area' (kb_uploadmethods/batch_import_assembly_from_staging).\n",
      "\n",
      "Remember that these are just tools to help you analyze your data. The final determination of whether your microbe is a cysteine auxotroph will require careful interpretation of the results.\u001b[0m\n",
      "\n",
      "\u001b[1m> Finished chain.\u001b[0m\n",
      "[DEBUG]: [Computational Biologist and Geneticist] Task output: Based on the KBase app catalog, the following steps and corresponding apps should be used to analyze your fastq file from paired end illumina sequencing to determine if your newly sequenced microbe is a cysteine auxotroph:\n",
      "\n",
      "1. Trim your Illumina reads before assembly using 'Trim Reads with Trimmomatic - v0.36' (kb_trimmomatic/run_trimmomatic).\n",
      "\n",
      "2. Assemble the trimmed reads from your sequencing using 'Assemble Reads with Unicycler - v0.4.8' (kb_unicycler/run_unicycler).\n",
      "\n",
      "3. Align sequencing reads to a reference genome to identify exon-exon splice junctions using 'Align Reads using TopHat2 - v1.0.1' (kb_tophat2/align_reads_using_tophat2).\n",
      "\n",
      "4. Search for matches to all MSAs that are within workspace using Hidden Markov Model (HMMER) Search with 'HMMER Custom Search & Functional Profile - v3.3.2' (kb_hmmer/HMMER_Local_MSA_Group_Search).\n",
      "\n",
      "5. Search for matches to a Multiple Sequence Alignment (MSA) using HMMER with 'HMMER Search from MSA (prot-prot) - v3.3.2' (kb_hmmer/HMMER_MSA_Search).\n",
      "\n",
      "6. Assess the quality of your genome assembly using 'Assess Genome Quality with CheckM - v1.0.18' (kb_Msuite/run_checkM_lineage_wf).\n",
      "\n",
      "7. Annotate the genome, which will identify the genes and their functions, using 'Annotate Microbial Assembly' (RASTtk/annotate_microbial_genome).\n",
      "\n",
      "8. Build a metabolic model from your annotated genome using 'Build Metabolic Model' (kb_model_seed/build_metabolic_model). This model can be used to predict the metabolic capabilities of your microbe, including whether it is a cysteine auxotroph.\n",
      "\n",
      "9. If your metabolic model predicts that your microbe is a cysteine auxotroph, identify potential reactions that could be added to the model to enable cysteine biosynthesis using 'Gapfill Metabolic Model' (kb_model_seed/gapfill_metabolic_model).\n",
      "\n",
      "10. Import FASTA files from your staging area into your workspace using 'Batch Import Assembly from Staging Area' (kb_uploadmethods/batch_import_assembly_from_staging).\n",
      "\n",
      "Remember that these are just tools to help you analyze your data. The final determination of whether your microbe is a cysteine auxotroph will require careful interpretation of the results.\n",
      "\n",
      "\n",
      "######################\n",
      "Based on the KBase app catalog, the following steps and corresponding apps should be used to analyze your fastq file from paired end illumina sequencing to determine if your newly sequenced microbe is a cysteine auxotroph:\n",
      "\n",
      "1. Trim your Illumina reads before assembly using 'Trim Reads with Trimmomatic - v0.36' (kb_trimmomatic/run_trimmomatic).\n",
      "\n",
      "2. Assemble the trimmed reads from your sequencing using 'Assemble Reads with Unicycler - v0.4.8' (kb_unicycler/run_unicycler).\n",
      "\n",
      "3. Align sequencing reads to a reference genome to identify exon-exon splice junctions using 'Align Reads using TopHat2 - v1.0.1' (kb_tophat2/align_reads_using_tophat2).\n",
      "\n",
      "4. Search for matches to all MSAs that are within workspace using Hidden Markov Model (HMMER) Search with 'HMMER Custom Search & Functional Profile - v3.3.2' (kb_hmmer/HMMER_Local_MSA_Group_Search).\n",
      "\n",
      "5. Search for matches to a Multiple Sequence Alignment (MSA) using HMMER with 'HMMER Search from MSA (prot-prot) - v3.3.2' (kb_hmmer/HMMER_MSA_Search).\n",
      "\n",
      "6. Assess the quality of your genome assembly using 'Assess Genome Quality with CheckM - v1.0.18' (kb_Msuite/run_checkM_lineage_wf).\n",
      "\n",
      "7. Annotate the genome, which will identify the genes and their functions, using 'Annotate Microbial Assembly' (RASTtk/annotate_microbial_genome).\n",
      "\n",
      "8. Build a metabolic model from your annotated genome using 'Build Metabolic Model' (kb_model_seed/build_metabolic_model). This model can be used to predict the metabolic capabilities of your microbe, including whether it is a cysteine auxotroph.\n",
      "\n",
      "9. If your metabolic model predicts that your microbe is a cysteine auxotroph, identify potential reactions that could be added to the model to enable cysteine biosynthesis using 'Gapfill Metabolic Model' (kb_model_seed/gapfill_metabolic_model).\n",
      "\n",
      "10. Import FASTA files from your staging area into your workspace using 'Batch Import Assembly from Staging Area' (kb_uploadmethods/batch_import_assembly_from_staging).\n",
      "\n",
      "Remember that these are just tools to help you analyze your data. The final determination of whether your microbe is a cysteine auxotroph will require careful interpretation of the results.\n"
     ]
    }
   ],
   "source": [
    "# Get your crew to work!\n",
    "result = crew.kickoff()\n",
    "\n",
    "print(\"######################\")\n",
    "print(result)"
   ]
  },
  {
   "cell_type": "code",
   "execution_count": null,
   "id": "368df231-70e2-488d-bb16-bc67525566b7",
   "metadata": {},
   "outputs": [],
   "source": []
  },
  {
   "cell_type": "code",
   "execution_count": null,
   "id": "bd4d4c48-c90f-4b31-a781-a817034e5624",
   "metadata": {},
   "outputs": [],
   "source": []
  }
 ],
 "metadata": {
  "kernelspec": {
   "display_name": "Python 3 (ipykernel)",
   "language": "python",
   "name": "python3"
  },
  "language_info": {
   "codemirror_mode": {
    "name": "ipython",
    "version": 3
   },
   "file_extension": ".py",
   "mimetype": "text/x-python",
   "name": "python",
   "nbconvert_exporter": "python",
   "pygments_lexer": "ipython3",
   "version": "3.11.8"
  }
 },
 "nbformat": 4,
 "nbformat_minor": 5
}
